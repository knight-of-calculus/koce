{
 "cells": [
  {
   "cell_type": "code",
   "execution_count": 1,
   "id": "01253ab1",
   "metadata": {},
   "outputs": [],
   "source": [
    "from gliner import GLiNER"
   ]
  },
  {
   "cell_type": "code",
   "execution_count": null,
   "id": "905cc7a7",
   "metadata": {},
   "outputs": [],
   "source": [
    "from gliner import GLiNER\n",
    "\n",
    "# Загрузка предобученной многоязычной модели\n",
    "model = GLiNER.from_pretrained(\"urchade/gliner_multi-v2.1\")\n",
    "\n",
    "# Ваш текст (пример)\n",
    "text = \"\"\"\n",
    "Уважаемые коллеги, просим изменить условия по контракту № 45-ИК/2024 от 15.10.2024 \n",
    "для компании ООО 'Вектор Плюс'. Контактное лицо - Иванов Сергей.\n",
    "\"\"\"\n",
    "\n",
    "# Задаем типы сущностей, которые хотим найти\n",
    "labels = [\"номер контракта\", \"имя компании\"]\n",
    "\n",
    "# Извлекаем сущности\n",
    "predictions = model.predict_entities(text, labels, threshold=0.5)\n",
    "\n",
    "# Печатаем результат\n",
    "for pred in predictions:\n",
    "    print(f\"Сущность: {pred['label']}\")\n",
    "    print(f\"Текст: '{pred['text']}'\")\n",
    "    print(f\"Уверенность: {pred['score']:.2f}\\n\")"
   ]
  }
 ],
 "metadata": {
  "kernelspec": {
   "display_name": "Python 3",
   "language": "python",
   "name": "python3"
  },
  "language_info": {
   "codemirror_mode": {
    "name": "ipython",
    "version": 3
   },
   "file_extension": ".py",
   "mimetype": "text/x-python",
   "name": "python",
   "nbconvert_exporter": "python",
   "pygments_lexer": "ipython3",
   "version": "3.13.2+"
  }
 },
 "nbformat": 4,
 "nbformat_minor": 5
}
